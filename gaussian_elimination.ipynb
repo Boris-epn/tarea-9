{
 "cells": [
  {
   "cell_type": "markdown",
   "metadata": {},
   "source": [
    "# Eliminación Gaussiana con sustitución hacia atrás"
   ]
  },
  {
   "cell_type": "code",
   "metadata": {
    "ExecuteTime": {
     "end_time": "2024-12-21T13:27:06.839810Z",
     "start_time": "2024-12-21T13:27:06.790409Z"
    }
   },
   "source": [
    "%load_ext autoreload"
   ],
   "outputs": [],
   "execution_count": 2
  },
  {
   "cell_type": "code",
   "metadata": {
    "ExecuteTime": {
     "end_time": "2024-12-21T13:47:05.474634Z",
     "start_time": "2024-12-21T13:47:05.398110Z"
    }
   },
   "source": [
    "%autoreload 2\n",
    "from src import eliminacion_gaussiana\n",
    "\n",
    "Ab = [[4, 1, 2, 9], [2, 4,-1,-5], [1,1,-3,-9.0]]\n",
    "\n",
    "eliminacion_gaussiana(Ab)"
   ],
   "outputs": [
    {
     "name": "stdout",
     "output_type": "stream",
     "text": [
      "[12-21 08:47:05][INFO] \n",
      "[[ 1.  1. -3. -9.]\n",
      " [ 0.  2.  5. 13.]\n",
      " [ 0. -3. 14. 45.]]\n",
      "[12-21 08:47:05][INFO] \n",
      "[[ 1.   1.  -3.  -9. ]\n",
      " [ 0.   2.   5.  13. ]\n",
      " [ 0.   0.  21.5 64.5]]\n"
     ]
    },
    {
     "data": {
      "text/plain": [
       "array([ 1., -1.,  3.])"
      ]
     },
     "execution_count": 5,
     "metadata": {},
     "output_type": "execute_result"
    }
   ],
   "execution_count": 5
  },
  {
   "cell_type": "code",
   "metadata": {
    "ExecuteTime": {
     "end_time": "2024-12-21T13:31:19.763082Z",
     "start_time": "2024-12-21T13:31:19.672800Z"
    }
   },
   "source": [
    "%autoreload 2\n",
    "from src import eliminacion_gaussiana\n",
    "\n",
    "Ab = [[1, -1, 2, -1, -8], [2, -2, 3, -3, -20], [1, 1, 1, 0, -2], [1, -1, 4, 3, 4]]\n",
    "\n",
    "eliminacion_gaussiana(Ab)"
   ],
   "outputs": [
    {
     "name": "stdout",
     "output_type": "stream",
     "text": [
      "[12-21 08:31:19][INFO] \n",
      "[[ 1 -1  2 -1 -8]\n",
      " [ 0  0 -1 -1 -4]\n",
      " [ 0  2 -1  1  6]\n",
      " [ 0  0  2  4 12]]\n",
      "[12-21 08:31:19][INFO] \n",
      "[[ 1 -1  2 -1 -8]\n",
      " [ 0  2 -1  1  6]\n",
      " [ 0  0 -1 -1 -4]\n",
      " [ 0  0  2  4 12]]\n",
      "[12-21 08:31:19][INFO] \n",
      "[[ 1 -1  2 -1 -8]\n",
      " [ 0  2 -1  1  6]\n",
      " [ 0  0 -1 -1 -4]\n",
      " [ 0  0  0  2  4]]\n"
     ]
    },
    {
     "data": {
      "text/plain": [
       "array([-7.,  3.,  2.,  2.])"
      ]
     },
     "execution_count": 4,
     "metadata": {},
     "output_type": "execute_result"
    }
   ],
   "execution_count": 4
  },
  {
   "cell_type": "markdown",
   "metadata": {},
   "source": [
    "# Soluciones infinitas\n",
    "El siguiente sistema de ecuaciones tiene soluciones infinitas:\n",
    "\n",
    "|   |   |   |   |\n",
    "|---|---|---|---|\n",
    "| 1 | 1 | 1 | 4 |\n",
    "| 2 | 2 | 1 | 6 |\n",
    "| 1 | 1 | 2 | 6 |\n",
    "\n",
    "\n"
   ]
  },
  {
   "cell_type": "code",
   "execution_count": 14,
   "metadata": {},
   "outputs": [
    {
     "name": "stdout",
     "output_type": "stream",
     "text": [
      "[12-20 21:43:27][INFO] \n",
      "[[ 1  1  1  4]\n",
      " [ 0  0 -1 -2]\n",
      " [ 0  0  1  2]]\n"
     ]
    },
    {
     "ename": "ValueError",
     "evalue": "No existe solución única.",
     "output_type": "error",
     "traceback": [
      "\u001B[1;31m---------------------------------------------------------------------------\u001B[0m",
      "\u001B[1;31mValueError\u001B[0m                                Traceback (most recent call last)",
      "\u001B[1;32m~\\AppData\\Local\\Temp/ipykernel_11848/2305331668.py\u001B[0m in \u001B[0;36m<module>\u001B[1;34m\u001B[0m\n\u001B[0;32m      5\u001B[0m \u001B[0mAb\u001B[0m \u001B[1;33m=\u001B[0m \u001B[1;33m[\u001B[0m\u001B[1;33m[\u001B[0m\u001B[1;36m1\u001B[0m\u001B[1;33m,\u001B[0m \u001B[1;36m1\u001B[0m\u001B[1;33m,\u001B[0m \u001B[1;36m1\u001B[0m\u001B[1;33m,\u001B[0m \u001B[1;36m4\u001B[0m\u001B[1;33m]\u001B[0m\u001B[1;33m,\u001B[0m \u001B[1;33m[\u001B[0m\u001B[1;36m2\u001B[0m\u001B[1;33m,\u001B[0m \u001B[1;36m2\u001B[0m\u001B[1;33m,\u001B[0m \u001B[1;36m1\u001B[0m\u001B[1;33m,\u001B[0m \u001B[1;36m6\u001B[0m\u001B[1;33m]\u001B[0m\u001B[1;33m,\u001B[0m \u001B[1;33m[\u001B[0m\u001B[1;36m1\u001B[0m\u001B[1;33m,\u001B[0m \u001B[1;36m1\u001B[0m\u001B[1;33m,\u001B[0m \u001B[1;36m2\u001B[0m\u001B[1;33m,\u001B[0m \u001B[1;36m6\u001B[0m\u001B[1;33m]\u001B[0m\u001B[1;33m]\u001B[0m\u001B[1;33m\u001B[0m\u001B[1;33m\u001B[0m\u001B[0m\n\u001B[0;32m      6\u001B[0m \u001B[1;33m\u001B[0m\u001B[0m\n\u001B[1;32m----> 7\u001B[1;33m \u001B[0meliminacion_gaussiana\u001B[0m\u001B[1;33m(\u001B[0m\u001B[0mAb\u001B[0m\u001B[1;33m)\u001B[0m\u001B[1;33m\u001B[0m\u001B[1;33m\u001B[0m\u001B[0m\n\u001B[0m",
      "\u001B[1;32mc:\\Users\\z_tja\\OneDrive\\doctorado\\profesor\\2024-B\\Métodos Numéricos\\metodos fuente\\src\\linear_sist_methods.py\u001B[0m in \u001B[0;36meliminacion_gaussiana\u001B[1;34m(A)\u001B[0m\n\u001B[0;32m     63\u001B[0m         \u001B[1;32mif\u001B[0m \u001B[0mp\u001B[0m \u001B[1;32mis\u001B[0m \u001B[1;32mNone\u001B[0m\u001B[1;33m:\u001B[0m\u001B[1;33m\u001B[0m\u001B[1;33m\u001B[0m\u001B[0m\n\u001B[0;32m     64\u001B[0m             \u001B[1;31m# no pivot found.\u001B[0m\u001B[1;33m\u001B[0m\u001B[1;33m\u001B[0m\u001B[0m\n\u001B[1;32m---> 65\u001B[1;33m             \u001B[1;32mraise\u001B[0m \u001B[0mValueError\u001B[0m\u001B[1;33m(\u001B[0m\u001B[1;34m\"No existe solución única.\"\u001B[0m\u001B[1;33m)\u001B[0m\u001B[1;33m\u001B[0m\u001B[1;33m\u001B[0m\u001B[0m\n\u001B[0m\u001B[0;32m     66\u001B[0m \u001B[1;33m\u001B[0m\u001B[0m\n\u001B[0;32m     67\u001B[0m         \u001B[1;32mif\u001B[0m \u001B[0mp\u001B[0m \u001B[1;33m!=\u001B[0m \u001B[0mi\u001B[0m\u001B[1;33m:\u001B[0m\u001B[1;33m\u001B[0m\u001B[1;33m\u001B[0m\u001B[0m\n",
      "\u001B[1;31mValueError\u001B[0m: No existe solución única."
     ]
    }
   ],
   "source": [
    "# %load_ext autoreload\n",
    "%autoreload 2\n",
    "from src import eliminacion_gaussiana\n",
    "\n",
    "Ab = [[1, 1, 1, 4], [2, 2, 1, 6], [1, 1, 2, 6]]\n",
    "\n",
    "eliminacion_gaussiana(Ab)"
   ]
  },
  {
   "cell_type": "markdown",
   "metadata": {},
   "source": [
    "# Sin solución\n",
    "El siguiente sistema de ecuaciones no tiene solución:\n",
    "\n",
    "|   |   |   |   |\n",
    "|---|---|---|---|\n",
    "| 1 | 1 | 1 | 4 |\n",
    "| 2 | 2 | 1 | 4 |\n",
    "| 1 | 1 | 2 | 6 |"
   ]
  },
  {
   "cell_type": "code",
   "execution_count": 8,
   "metadata": {},
   "outputs": [
    {
     "ename": "ValueError",
     "evalue": "No existe solución única.",
     "output_type": "error",
     "traceback": [
      "\u001B[1;31m---------------------------------------------------------------------------\u001B[0m",
      "\u001B[1;31mValueError\u001B[0m                                Traceback (most recent call last)",
      "Cell \u001B[1;32mIn[8], line 7\u001B[0m\n\u001B[0;32m      3\u001B[0m \u001B[38;5;28;01mfrom\u001B[39;00m \u001B[38;5;21;01msrc\u001B[39;00m \u001B[38;5;28;01mimport\u001B[39;00m eliminacion_gaussiana\n\u001B[0;32m      5\u001B[0m A \u001B[38;5;241m=\u001B[39m [[\u001B[38;5;241m1\u001B[39m, \u001B[38;5;241m1\u001B[39m, \u001B[38;5;241m1\u001B[39m, \u001B[38;5;241m4\u001B[39m], [\u001B[38;5;241m2\u001B[39m, \u001B[38;5;241m2\u001B[39m, \u001B[38;5;241m1\u001B[39m, \u001B[38;5;241m4\u001B[39m], [\u001B[38;5;241m1\u001B[39m, \u001B[38;5;241m1\u001B[39m, \u001B[38;5;241m2\u001B[39m, \u001B[38;5;241m6\u001B[39m]]\n\u001B[1;32m----> 7\u001B[0m \u001B[43meliminacion_gaussiana\u001B[49m\u001B[43m(\u001B[49m\u001B[43mA\u001B[49m\u001B[43m)\u001B[49m\n",
      "File \u001B[1;32mc:\\Users\\Laboratorio IA\\OneDrive\\doctorado\\profesor\\2024 - A\\Métodos numéricos\\clases\\python\\src\\gaussian_elimination.py:65\u001B[0m, in \u001B[0;36meliminacion_gaussiana\u001B[1;34m(A)\u001B[0m\n\u001B[0;32m     61\u001B[0m         p \u001B[38;5;241m=\u001B[39m pi\n\u001B[0;32m     63\u001B[0m \u001B[38;5;28;01mif\u001B[39;00m p \u001B[38;5;129;01mis\u001B[39;00m \u001B[38;5;28;01mNone\u001B[39;00m:\n\u001B[0;32m     64\u001B[0m     \u001B[38;5;66;03m# no pivot found.\u001B[39;00m\n\u001B[1;32m---> 65\u001B[0m     \u001B[38;5;28;01mraise\u001B[39;00m \u001B[38;5;167;01mValueError\u001B[39;00m(\u001B[38;5;124m\"\u001B[39m\u001B[38;5;124mNo existe solución única.\u001B[39m\u001B[38;5;124m\"\u001B[39m)\n\u001B[0;32m     67\u001B[0m \u001B[38;5;28;01mif\u001B[39;00m p \u001B[38;5;241m!=\u001B[39m i:\n\u001B[0;32m     68\u001B[0m     \u001B[38;5;66;03m# swap rows\u001B[39;00m\n\u001B[0;32m     69\u001B[0m     _aux \u001B[38;5;241m=\u001B[39m A[i, :]\u001B[38;5;241m.\u001B[39mcopy()\n",
      "\u001B[1;31mValueError\u001B[0m: No existe solución única."
     ]
    }
   ],
   "source": [
    "# %load_ext autoreload\n",
    "%autoreload 2\n",
    "from src import eliminacion_gaussiana\n",
    "\n",
    "Ab = [[1, 1, 1, 4], [2, 2, 1, 4], [1, 1, 2, 6]]\n",
    "\n",
    "eliminacion_gaussiana(Ab)"
   ]
  }
 ],
 "metadata": {
  "kernelspec": {
   "display_name": "Python 3",
   "language": "python",
   "name": "python3"
  },
  "language_info": {
   "codemirror_mode": {
    "name": "ipython",
    "version": 3
   },
   "file_extension": ".py",
   "mimetype": "text/x-python",
   "name": "python",
   "nbconvert_exporter": "python",
   "pygments_lexer": "ipython3",
   "version": "3.10.8"
  }
 },
 "nbformat": 4,
 "nbformat_minor": 2
}
